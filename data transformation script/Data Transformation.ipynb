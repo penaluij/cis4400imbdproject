{
 "cells": [
  {
   "cell_type": "code",
   "execution_count": 1,
   "id": "df12dd47",
   "metadata": {},
   "outputs": [
    {
     "name": "stdout",
     "output_type": "stream",
     "text": [
      "✅ Saved: movies_cleaned.csv\n",
      "✅ Saved: ratings_cleaned.csv\n",
      "✅ Saved: directors_cleaned.csv\n"
     ]
    }
   ],
   "source": [
    "import pandas as pd\n",
    "import csv\n",
    "\n",
    "movies = pd.read_csv(\n",
    "    \"title.basics (1).tsv.gz\",\n",
    "    sep=\"\\t\",\n",
    "    na_values='\\\\N',\n",
    "    encoding='latin1',\n",
    "    compression='gzip',\n",
    "    quoting=csv.QUOTE_NONE,\n",
    "    on_bad_lines='skip'\n",
    ")\n",
    "\n",
    "movies = movies[movies['titleType'] == 'movie']\n",
    "movies = movies.dropna(subset=['primaryTitle', 'startYear'])\n",
    "movies = movies.rename(columns={\n",
    "    'tconst': 'movie_id',\n",
    "    'primaryTitle': 'title',\n",
    "    'startYear': 'release_year',\n",
    "    'genres': 'genres'\n",
    "})\n",
    "movies['release_year'] = movies['release_year'].astype(int)\n",
    "\n",
    "movies.to_csv(\"movies_cleaned.csv\", index=False)\n",
    "print(\"✅ Saved: movies_cleaned.csv\")\n",
    "\n",
    "\n",
    "ratings = pd.read_csv(\n",
    "    \"title.ratings.tsv.gz\",\n",
    "    sep=\"\\t\",\n",
    "    encoding='latin1',\n",
    "    compression='gzip',\n",
    "    quoting=csv.QUOTE_NONE,\n",
    "    on_bad_lines='skip'\n",
    ")\n",
    "\n",
    "ratings = ratings.rename(columns={\n",
    "    'tconst': 'movie_id',\n",
    "    'averageRating': 'rating',\n",
    "    'numVotes': 'num_votes'\n",
    "})\n",
    "ratings['rating'] = ratings['rating'].astype(float)\n",
    "ratings['num_votes'] = ratings['num_votes'].astype(int)\n",
    "\n",
    "ratings.to_csv(\"ratings_cleaned.csv\", index=False)\n",
    "print(\"✅ Saved: ratings_cleaned.csv\")\n",
    "\n",
    "\n",
    "names = pd.read_csv(\n",
    "    \"name.basics.tsv.gz\",\n",
    "    sep=\"\\t\",\n",
    "    na_values='\\\\N',\n",
    "    encoding='latin1',\n",
    "    compression='gzip',\n",
    "    quoting=csv.QUOTE_NONE,\n",
    "    on_bad_lines='skip'\n",
    ")\n",
    "\n",
    "directors = names[['nconst', 'primaryName', 'birthYear']].copy()\n",
    "directors = directors.rename(columns={\n",
    "    'nconst': 'director_id',\n",
    "    'primaryName': 'director_name',\n",
    "    'birthYear': 'birth_year'\n",
    "})\n",
    "directors = directors.dropna(subset=['birth_year'])\n",
    "directors['birth_year'] = directors['birth_year'].astype(int)\n",
    "\n",
    "directors.to_csv(\"directors_cleaned.csv\", index=False)\n",
    "print(\"✅ Saved: directors_cleaned.csv\")\n"
   ]
  },
  {
   "cell_type": "code",
   "execution_count": null,
   "id": "bb82efcd",
   "metadata": {},
   "outputs": [],
   "source": []
  }
 ],
 "metadata": {
  "kernelspec": {
   "display_name": "Python 3 (ipykernel)",
   "language": "python",
   "name": "python3"
  },
  "language_info": {
   "codemirror_mode": {
    "name": "ipython",
    "version": 3
   },
   "file_extension": ".py",
   "mimetype": "text/x-python",
   "name": "python",
   "nbconvert_exporter": "python",
   "pygments_lexer": "ipython3",
   "version": "3.11.5"
  }
 },
 "nbformat": 4,
 "nbformat_minor": 5
}
